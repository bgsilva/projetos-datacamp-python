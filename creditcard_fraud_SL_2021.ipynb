{
 "cells": [
  {
   "cell_type": "markdown",
   "metadata": {},
   "source": [
    "* Autor do notebook: [Bruno Silva](https://github.com/bgsilva)\n",
    "* Notebook baseado no material do curso ['Fraud Detection in Python'](https://app.datacamp.com/learn/courses/fraud-detection-in-python) da platafotma [Datacamp](https://www.datacamp.com/) \n",
    "\n"
   ]
  },
  {
   "cell_type": "markdown",
   "metadata": {
    "id": "h41abA9NtB9l"
   },
   "source": [
    "# Detecção de fraudes em cartões de crédito\n",
    "\n",
    "**Contexto**\n",
    "\n",
    "Fraudes em transações com cartões de crédito representam anualmente uma perda de receita considerável para as empresas de cartão de crédito. Logo, é importante que essas empresas sejam capazes de reconhecer tais tipos de transações, evitando que clientes sejam cobrados indevidamente.\n",
    "\n",
    "Usando algoritmos de machine learning supervisionado, podemos detectar comportamento fraudulento com base em fraudes anteriores. Já com algoritmos de machine learning não supervisionado, podemos descobrir novos tipos de atividades de fraude.\n",
    "\n",
    "De maneira geral, as transações fraudulentas são raras em comparação com o total de transações efetuadas, resultando em dados desbalanceados.\n",
    "\n",
    "\n",
    "**Conteúdo do conjunto de dados**  \n",
    "\n",
    "O conjunto de dados (dataset) contém transações feitas por cartões de crédito em setembro de 2013 por titulares de cartões europeus.\n",
    "\n",
    "Este conjunto de dados apresenta transações que ocorreram em dois dias, onde há 492 fraudes em 284.807 transações. O conjunto de dados é altamente desbalanceado, a classe positiva (fraudes) é responsável por 0,172% de todas as transações.\n",
    "\n",
    "O dataset contém apenas variáveis de entrada numéricas que são o resultado de uma transformação PCA. Infelizmente, devido a questões de confidencialidade, as features originais e outras informações básicas sobre os dados não são fornecidas. As features V1, V2, ..., V28 são as principais componentes obtidas com a PCA, as únicas features que não foram transformadas com a transformação PCA são 'Time' e 'Amount'. A feature 'Time' contém os segundos decorridos entre cada transação e a primeira transação no dataset. A feature 'Amount' é o valor da transação, esta feature pode ser usado como exemplo de aprendizagem dependente de custos. A feature 'Class' é a variável de resposta e assume o valor 1 em caso de fraude e 0 no caso contrário.\n",
    "\n",
    "É importante lembrar que a acurácia da matriz de confusão não é significativa para a classificação não balanceada, sendo recomendada a medida da acurácia usando a área sob a curva precisão-recall - Area Under the Precision-Recall Curve (AUPRC).\n",
    "\n",
    "Fonte do dataset: https://www.kaggle.com/mlg-ulb/creditcardfraud\n",
    "\n",
    "---\n"
   ]
  },
  {
   "cell_type": "markdown",
   "metadata": {},
   "source": [
    "# Introdução e preparação dos dados\n",
    "\n",
    "Neste parte inicial, iremos ter o primeiro contato com o dataset e conhecer alguns modos de reamostrar os dados para lidar com problema de desbalanceamento dos dados originais.\n"
   ]
  },
  {
   "cell_type": "markdown",
   "metadata": {},
   "source": [
    "Bibliotecas utilizadas"
   ]
  },
  {
   "cell_type": "code",
   "execution_count": 1,
   "metadata": {
    "id": "_KR8ZSYCM2gU"
   },
   "outputs": [],
   "source": [
    "import numpy as np\n",
    "import matplotlib.pyplot as plt\n",
    "import pandas as pd"
   ]
  },
  {
   "cell_type": "markdown",
   "metadata": {},
   "source": [
    "Funções utilizadas"
   ]
  },
  {
   "cell_type": "code",
   "execution_count": 2,
   "metadata": {
    "id": "8EpsljFQKe-n",
    "tags": []
   },
   "outputs": [],
   "source": [
    "# Função utilizada para criação de um gráfico de dispersão dos dados (rotulados)\n",
    "def plot_data(X, y):\n",
    "    plt.scatter(X[y == 0, 0], X[y == 0, 1], label=\"Class #0\", alpha=0.5, linewidth=0.15)\n",
    "    plt.scatter(X[y == 1, 0], X[y == 1, 1], label=\"Class #1\", alpha=0.5, linewidth=0.15, c='r')\n",
    "    plt.legend()\n",
    "    return plt.show()\n",
    " \n",
    "# Função utilizada para separar as colunas das features da coluna com os rótulos de fraude\n",
    "def prep_data(df):\n",
    "    X = df.iloc[:, 1:29]\n",
    "    X = np.array(X).astype(float)\n",
    "    y = df.iloc[:, 30]\n",
    "    y = np.array(y).astype(float)\n",
    "    return X,y\n",
    "\n",
    "# Função utilizada criar um plot p/ comparar os dados reamostrados com os dados originais\n",
    "def compare_plot(X, y, X_resampled, y_resampled, method):\n",
    "    # Iniciar o plot\n",
    "    f, (ax1, ax2) = plt.subplots(1, 2)\n",
    "    # sub-plot número 1, dados normais\n",
    "    c0 = ax1.scatter(X[y == 0, 0], X[y == 0, 1], label=\"Class #0\",alpha=0.5)\n",
    "    c1 = ax1.scatter(X[y == 1, 0], X[y == 1, 1], label=\"Class #1\",alpha=0.5, c='r')\n",
    "    ax1.set_title('Original set')\n",
    "    # sub-plot número 2, dados sobreamostrados\n",
    "    ax2.scatter(X_resampled[y_resampled == 0, 0], X_resampled[y_resampled == 0, 1], label=\"Class #0\", alpha=.5)\n",
    "    ax2.scatter(X_resampled[y_resampled == 1, 0], X_resampled[y_resampled == 1, 1], label=\"Class #1\", alpha=.5,c='r')\n",
    "    ax2.set_title(method)\n",
    "    # ajustes na figura\n",
    "    plt.figlegend((c0, c1), ('Class #0', 'Class #1'), loc='lower center',\n",
    "                ncol=2, labelspacing=0.)\n",
    "    #plt.tight_layout(pad=3)\n",
    "    return plt.show()\n",
    "\n",
    "# Função utilizada criar um plot com a curva precisão-recall\n",
    "def plot_pr_curve(recall, precision, average_precision):\n",
    "    plt.step(recall, precision, color='b', alpha=0.2, where='post')\n",
    "    plt.fill_between(recall, precision, step='post', alpha=0.2, color='b')\n",
    "    plt.xlabel('Recall')\n",
    "    plt.ylabel('Precision')\n",
    "    plt.ylim([0.0, 1.05])\n",
    "    plt.xlim([0.0, 1.0])\n",
    "    plt.title('2-class Precision-Recall curve: AP={0:0.2f}'.format(average_precision))\n",
    "    plt.show()\n",
    "\n",
    "# Função utilizada para treinar o modelo\n",
    "def get_model_results(X_train, y_train, X_test, y_test, model):\n",
    "    model.fit(X_train, y_train)\n",
    "    predicted = model.predict(X_test)\n",
    "    probs = model.predict_proba(X_test)\n",
    "    print (classification_report(y_test, predicted))\n",
    "    print (confusion_matrix(y_test, predicted))"
   ]
  },
  {
   "cell_type": "markdown",
   "metadata": {},
   "source": [
    "Carregando e visualizando o dataset"
   ]
  },
  {
   "cell_type": "code",
   "execution_count": 3,
   "metadata": {
    "id": "X68zw1uVLWqp"
   },
   "outputs": [],
   "source": [
    "df = pd.read_csv(\"creditcard.csv\")"
   ]
  },
  {
   "cell_type": "code",
   "execution_count": 4,
   "metadata": {
    "colab": {
     "base_uri": "https://localhost:8080/",
     "height": 224
    },
    "id": "6ifFX9nCZ5dK",
    "outputId": "6d005644-68ff-42e2-de77-2156edb9828b"
   },
   "outputs": [
    {
     "data": {
      "text/html": [
       "<div>\n",
       "<style scoped>\n",
       "    .dataframe tbody tr th:only-of-type {\n",
       "        vertical-align: middle;\n",
       "    }\n",
       "\n",
       "    .dataframe tbody tr th {\n",
       "        vertical-align: top;\n",
       "    }\n",
       "\n",
       "    .dataframe thead th {\n",
       "        text-align: right;\n",
       "    }\n",
       "</style>\n",
       "<table border=\"1\" class=\"dataframe\">\n",
       "  <thead>\n",
       "    <tr style=\"text-align: right;\">\n",
       "      <th></th>\n",
       "      <th>Time</th>\n",
       "      <th>V1</th>\n",
       "      <th>V2</th>\n",
       "      <th>V3</th>\n",
       "      <th>V4</th>\n",
       "      <th>V5</th>\n",
       "      <th>V6</th>\n",
       "      <th>V7</th>\n",
       "      <th>V8</th>\n",
       "      <th>V9</th>\n",
       "      <th>...</th>\n",
       "      <th>V21</th>\n",
       "      <th>V22</th>\n",
       "      <th>V23</th>\n",
       "      <th>V24</th>\n",
       "      <th>V25</th>\n",
       "      <th>V26</th>\n",
       "      <th>V27</th>\n",
       "      <th>V28</th>\n",
       "      <th>Amount</th>\n",
       "      <th>Class</th>\n",
       "    </tr>\n",
       "  </thead>\n",
       "  <tbody>\n",
       "    <tr>\n",
       "      <th>0</th>\n",
       "      <td>0.0</td>\n",
       "      <td>-1.359807</td>\n",
       "      <td>-0.072781</td>\n",
       "      <td>2.536347</td>\n",
       "      <td>1.378155</td>\n",
       "      <td>-0.338321</td>\n",
       "      <td>0.462388</td>\n",
       "      <td>0.239599</td>\n",
       "      <td>0.098698</td>\n",
       "      <td>0.363787</td>\n",
       "      <td>...</td>\n",
       "      <td>-0.018307</td>\n",
       "      <td>0.277838</td>\n",
       "      <td>-0.110474</td>\n",
       "      <td>0.066928</td>\n",
       "      <td>0.128539</td>\n",
       "      <td>-0.189115</td>\n",
       "      <td>0.133558</td>\n",
       "      <td>-0.021053</td>\n",
       "      <td>149.62</td>\n",
       "      <td>0</td>\n",
       "    </tr>\n",
       "    <tr>\n",
       "      <th>1</th>\n",
       "      <td>0.0</td>\n",
       "      <td>1.191857</td>\n",
       "      <td>0.266151</td>\n",
       "      <td>0.166480</td>\n",
       "      <td>0.448154</td>\n",
       "      <td>0.060018</td>\n",
       "      <td>-0.082361</td>\n",
       "      <td>-0.078803</td>\n",
       "      <td>0.085102</td>\n",
       "      <td>-0.255425</td>\n",
       "      <td>...</td>\n",
       "      <td>-0.225775</td>\n",
       "      <td>-0.638672</td>\n",
       "      <td>0.101288</td>\n",
       "      <td>-0.339846</td>\n",
       "      <td>0.167170</td>\n",
       "      <td>0.125895</td>\n",
       "      <td>-0.008983</td>\n",
       "      <td>0.014724</td>\n",
       "      <td>2.69</td>\n",
       "      <td>0</td>\n",
       "    </tr>\n",
       "    <tr>\n",
       "      <th>2</th>\n",
       "      <td>1.0</td>\n",
       "      <td>-1.358354</td>\n",
       "      <td>-1.340163</td>\n",
       "      <td>1.773209</td>\n",
       "      <td>0.379780</td>\n",
       "      <td>-0.503198</td>\n",
       "      <td>1.800499</td>\n",
       "      <td>0.791461</td>\n",
       "      <td>0.247676</td>\n",
       "      <td>-1.514654</td>\n",
       "      <td>...</td>\n",
       "      <td>0.247998</td>\n",
       "      <td>0.771679</td>\n",
       "      <td>0.909412</td>\n",
       "      <td>-0.689281</td>\n",
       "      <td>-0.327642</td>\n",
       "      <td>-0.139097</td>\n",
       "      <td>-0.055353</td>\n",
       "      <td>-0.059752</td>\n",
       "      <td>378.66</td>\n",
       "      <td>0</td>\n",
       "    </tr>\n",
       "    <tr>\n",
       "      <th>3</th>\n",
       "      <td>1.0</td>\n",
       "      <td>-0.966272</td>\n",
       "      <td>-0.185226</td>\n",
       "      <td>1.792993</td>\n",
       "      <td>-0.863291</td>\n",
       "      <td>-0.010309</td>\n",
       "      <td>1.247203</td>\n",
       "      <td>0.237609</td>\n",
       "      <td>0.377436</td>\n",
       "      <td>-1.387024</td>\n",
       "      <td>...</td>\n",
       "      <td>-0.108300</td>\n",
       "      <td>0.005274</td>\n",
       "      <td>-0.190321</td>\n",
       "      <td>-1.175575</td>\n",
       "      <td>0.647376</td>\n",
       "      <td>-0.221929</td>\n",
       "      <td>0.062723</td>\n",
       "      <td>0.061458</td>\n",
       "      <td>123.50</td>\n",
       "      <td>0</td>\n",
       "    </tr>\n",
       "    <tr>\n",
       "      <th>4</th>\n",
       "      <td>2.0</td>\n",
       "      <td>-1.158233</td>\n",
       "      <td>0.877737</td>\n",
       "      <td>1.548718</td>\n",
       "      <td>0.403034</td>\n",
       "      <td>-0.407193</td>\n",
       "      <td>0.095921</td>\n",
       "      <td>0.592941</td>\n",
       "      <td>-0.270533</td>\n",
       "      <td>0.817739</td>\n",
       "      <td>...</td>\n",
       "      <td>-0.009431</td>\n",
       "      <td>0.798278</td>\n",
       "      <td>-0.137458</td>\n",
       "      <td>0.141267</td>\n",
       "      <td>-0.206010</td>\n",
       "      <td>0.502292</td>\n",
       "      <td>0.219422</td>\n",
       "      <td>0.215153</td>\n",
       "      <td>69.99</td>\n",
       "      <td>0</td>\n",
       "    </tr>\n",
       "  </tbody>\n",
       "</table>\n",
       "<p>5 rows × 31 columns</p>\n",
       "</div>"
      ],
      "text/plain": [
       "   Time        V1        V2        V3        V4        V5        V6        V7  \\\n",
       "0   0.0 -1.359807 -0.072781  2.536347  1.378155 -0.338321  0.462388  0.239599   \n",
       "1   0.0  1.191857  0.266151  0.166480  0.448154  0.060018 -0.082361 -0.078803   \n",
       "2   1.0 -1.358354 -1.340163  1.773209  0.379780 -0.503198  1.800499  0.791461   \n",
       "3   1.0 -0.966272 -0.185226  1.792993 -0.863291 -0.010309  1.247203  0.237609   \n",
       "4   2.0 -1.158233  0.877737  1.548718  0.403034 -0.407193  0.095921  0.592941   \n",
       "\n",
       "         V8        V9  ...       V21       V22       V23       V24       V25  \\\n",
       "0  0.098698  0.363787  ... -0.018307  0.277838 -0.110474  0.066928  0.128539   \n",
       "1  0.085102 -0.255425  ... -0.225775 -0.638672  0.101288 -0.339846  0.167170   \n",
       "2  0.247676 -1.514654  ...  0.247998  0.771679  0.909412 -0.689281 -0.327642   \n",
       "3  0.377436 -1.387024  ... -0.108300  0.005274 -0.190321 -1.175575  0.647376   \n",
       "4 -0.270533  0.817739  ... -0.009431  0.798278 -0.137458  0.141267 -0.206010   \n",
       "\n",
       "        V26       V27       V28  Amount  Class  \n",
       "0 -0.189115  0.133558 -0.021053  149.62      0  \n",
       "1  0.125895 -0.008983  0.014724    2.69      0  \n",
       "2 -0.139097 -0.055353 -0.059752  378.66      0  \n",
       "3 -0.221929  0.062723  0.061458  123.50      0  \n",
       "4  0.502292  0.219422  0.215153   69.99      0  \n",
       "\n",
       "[5 rows x 31 columns]"
      ]
     },
     "execution_count": 4,
     "metadata": {},
     "output_type": "execute_result"
    }
   ],
   "source": [
    "df.head()"
   ]
  },
  {
   "cell_type": "markdown",
   "metadata": {},
   "source": [
    "Explorando as features disponíveis no dataframe "
   ]
  },
  {
   "cell_type": "code",
   "execution_count": 5,
   "metadata": {
    "colab": {
     "base_uri": "https://localhost:8080/"
    },
    "id": "8Gt7k5qGEd11",
    "outputId": "33732150-b430-4b0e-f8d3-ec700641591f"
   },
   "outputs": [
    {
     "name": "stdout",
     "output_type": "stream",
     "text": [
      "<class 'pandas.core.frame.DataFrame'>\n",
      "RangeIndex: 284807 entries, 0 to 284806\n",
      "Data columns (total 31 columns):\n",
      " #   Column  Non-Null Count   Dtype  \n",
      "---  ------  --------------   -----  \n",
      " 0   Time    284807 non-null  float64\n",
      " 1   V1      284807 non-null  float64\n",
      " 2   V2      284807 non-null  float64\n",
      " 3   V3      284807 non-null  float64\n",
      " 4   V4      284807 non-null  float64\n",
      " 5   V5      284807 non-null  float64\n",
      " 6   V6      284807 non-null  float64\n",
      " 7   V7      284807 non-null  float64\n",
      " 8   V8      284807 non-null  float64\n",
      " 9   V9      284807 non-null  float64\n",
      " 10  V10     284807 non-null  float64\n",
      " 11  V11     284807 non-null  float64\n",
      " 12  V12     284807 non-null  float64\n",
      " 13  V13     284807 non-null  float64\n",
      " 14  V14     284807 non-null  float64\n",
      " 15  V15     284807 non-null  float64\n",
      " 16  V16     284807 non-null  float64\n",
      " 17  V17     284807 non-null  float64\n",
      " 18  V18     284807 non-null  float64\n",
      " 19  V19     284807 non-null  float64\n",
      " 20  V20     284807 non-null  float64\n",
      " 21  V21     284807 non-null  float64\n",
      " 22  V22     284807 non-null  float64\n",
      " 23  V23     284807 non-null  float64\n",
      " 24  V24     284807 non-null  float64\n",
      " 25  V25     284807 non-null  float64\n",
      " 26  V26     284807 non-null  float64\n",
      " 27  V27     284807 non-null  float64\n",
      " 28  V28     284807 non-null  float64\n",
      " 29  Amount  284807 non-null  float64\n",
      " 30  Class   284807 non-null  int64  \n",
      "dtypes: float64(30), int64(1)\n",
      "memory usage: 67.4 MB\n",
      "None\n"
     ]
    }
   ],
   "source": [
    "print(df.info())"
   ]
  },
  {
   "cell_type": "markdown",
   "metadata": {},
   "source": [
    "Contando as ocorrências de 'fraude' e 'não fraude'"
   ]
  },
  {
   "cell_type": "code",
   "execution_count": 6,
   "metadata": {
    "colab": {
     "base_uri": "https://localhost:8080/"
    },
    "id": "UT9z7__1Kb-Z",
    "outputId": "fb2f3bc0-216a-4836-ed17-90ad39d73153"
   },
   "outputs": [
    {
     "name": "stdout",
     "output_type": "stream",
     "text": [
      "0    284315\n",
      "1       492\n",
      "Name: Class, dtype: int64\n"
     ]
    }
   ],
   "source": [
    "occ = df['Class'].value_counts()\n",
    "print(occ)"
   ]
  },
  {
   "cell_type": "markdown",
   "metadata": {},
   "source": [
    "Imprimindo a proporção de casos de fraude"
   ]
  },
  {
   "cell_type": "code",
   "execution_count": 7,
   "metadata": {
    "colab": {
     "base_uri": "https://localhost:8080/"
    },
    "id": "mJWI4pCpKecy",
    "outputId": "b241c8de-9333-4d2c-e757-095d9b801601"
   },
   "outputs": [
    {
     "name": "stdout",
     "output_type": "stream",
     "text": [
      "0    0.998273\n",
      "1    0.001727\n",
      "Name: Class, dtype: float64\n"
     ]
    }
   ],
   "source": [
    "print(occ / len(df.index))"
   ]
  },
  {
   "cell_type": "markdown",
   "metadata": {},
   "source": [
    "Criando X e y a partir da função 'prep_data'"
   ]
  },
  {
   "cell_type": "code",
   "execution_count": 8,
   "metadata": {
    "id": "t_MwkDGkLK9l"
   },
   "outputs": [],
   "source": [
    "X, y = prep_data(df)"
   ]
  },
  {
   "cell_type": "markdown",
   "metadata": {},
   "source": [
    "Plotando os dados executando a função 'plot_data' em X e y"
   ]
  },
  {
   "cell_type": "code",
   "execution_count": 9,
   "metadata": {
    "colab": {
     "base_uri": "https://localhost:8080/",
     "height": 265
    },
    "id": "jHfLuy7vLMWD",
    "outputId": "c0296c0b-552d-45e6-9adc-4f56c02d7ff4"
   },
   "outputs": [
    {
     "data": {
      "image/png": "[encoded data removed]",
      "text/plain": [
       "<Figure size 432x288 with 1 Axes>"
      ]
     },
     "metadata": {
      "needs_background": "light"
     },
     "output_type": "display_data"
    }
   ],
   "source": [
    "plot_data(X, y)"
   ]
  },
  {
   "cell_type": "markdown",
   "metadata": {
    "id": "wORDxjE9a_K5"
   },
   "source": [
    "A partir da visualização dos dados, podemos notar de maneira claramento como os casos de fraudes estão espalhados (Class #1) e como possuímos poucos deles em relação ao número total de casos. "
   ]
  },
  {
   "cell_type": "markdown",
   "metadata": {
    "id": "AeMH116mNOz1"
   },
   "source": [
    "## Aplicando a técnica de rebalanceamento SMOTE\n",
    "\n",
    "Iremos rebalencear os dados usando a técnica de sobreamostragem SMOTE (Synthetic Minority Over-sampling Technique). A técnica SMOTE não cria cópias exatas das observações, mas cria novas amostras sintéticas que são bastante semelhantes às observações existentes na classe minoritária. A técnica SMOTE é, portanto, um pouco mais sofisticada do que apenas copiar observações.\n",
    "\n",
    "Iremos visualizar o resultado e compará-lo com os dados originais, de modo que possamos observar o efeito da aplicação da técnica SMOTE de forma clara."
   ]
  },
  {
   "cell_type": "code",
   "execution_count": 10,
   "metadata": {
    "colab": {
     "base_uri": "https://localhost:8080/",
     "height": 785
    },
    "id": "I6oXIqR2NORK",
    "outputId": "a31d0c75-66a3-4158-f097-c39cb43c3d9f"
   },
   "outputs": [
    {
     "data": {
      "image/png": "[encoded data removed]",
      "text/plain": [
       "<Figure size 432x288 with 1 Axes>"
      ]
     },
     "metadata": {
      "needs_background": "light"
     },
     "output_type": "display_data"
    }
   ],
   "source": [
    "from imblearn.over_sampling import SMOTE\n",
    "\n",
    "# Rodando a função 'prep_data' function'\n",
    "X, y = prep_data(df)\n",
    "\n",
    "# Definindo o método de resampling\n",
    "method = SMOTE(k_neighbors=2)\n",
    "\n",
    "# Criando um conjuntos de features reamostradas\n",
    "X_resampled, y_resampled = method.fit_resample(X, y)\n",
    "\n",
    "# Plotando os dados reamostrados\n",
    "plot_data(X_resampled, y_resampled)"
   ]
  },
  {
   "cell_type": "markdown",
   "metadata": {
    "id": "PesC1m9PeMKI"
   },
   "source": [
    "### Comparando os resultados\n",
    "\n",
    "Vimos que usar SMOTE nos dá mais observações da classe minoritária. Vamos comparar esses resultados com nossos dados originais, para ter uma boa ideia do que realmente aconteceu. Vamos dar uma olhada nas contagens dos valores de nossos dados antigos e novos e plotar os dois gráficos de dispersão dos dados lado a lado.\n",
    "\n",
    "Usaremos a função 'compare_plot()' para isso, que leva os seguintes argumentos: X, y, X_resampled, y_resampled, method = ''. A função plota os dados originais em um gráfico de dispersão, junto com os reamostrados lado a lado.\n"
   ]
  },
  {
   "cell_type": "code",
   "execution_count": 11,
   "metadata": {
    "colab": {
     "base_uri": "https://localhost:8080/",
     "height": 435
    },
    "id": "mBabL_Ake_YS",
    "outputId": "8f55fd42-6ebf-4c11-9b1d-39612da28b54"
   },
   "outputs": [
    {
     "name": "stdout",
     "output_type": "stream",
     "text": [
      "0.0    284315\n",
      "1.0       492\n",
      "dtype: int64\n",
      "0.0    284315\n",
      "1.0    284315\n",
      "dtype: int64\n"
     ]
    },
    {
     "data": {
      "image/png": "[encoded data removed]",
      "text/plain": [
       "<Figure size 432x288 with 2 Axes>"
      ]
     },
     "metadata": {
      "needs_background": "light"
     },
     "output_type": "display_data"
    }
   ],
   "source": [
    "# Imprimindo value_counts dos dados originais y\n",
    "print(pd.value_counts(pd.Series(y)))\n",
    "\n",
    "# mprimindo value_counts dos dados reamostrados y\n",
    "print(pd.value_counts(pd.Series(y_resampled)))\n",
    "\n",
    "# Rodar 'compare_plot'\n",
    "compare_plot(X, y, X_resampled, y_resampled, method='SMOTE')"
   ]
  },
  {
   "cell_type": "markdown",
   "metadata": {
    "id": "QY64LmlDfKv_"
   },
   "source": [
    "Deve estar claro a  esta altura que SMOTE equilibrou os dados completamente e que a classe minoritária agora é igual em tamanho à classe majoritária. A visualização dos dados mostra o efeito em seus dados de forma muito clara."
   ]
  },
  {
   "cell_type": "markdown",
   "metadata": {
    "id": "0WAXP5fpjxYU"
   },
   "source": [
    "## Explorando a maneira tradicional de detectar fraudes\n",
    "\n",
    "Iremos agora tentar encontrar casos de fraude no dataset de cartão de crédito da maneira tradicional. \n",
    "\n",
    "Primeiro, definiremos os valores de limite usando estatísticas comuns, para separar 'fraude' e 'não fraude'. \n",
    "\n",
    "Em seguida, usaremos esses limites nas features para detectar fraude. Esta é uma prática comum em equipes de análise de fraude."
   ]
  },
  {
   "cell_type": "code",
   "execution_count": 12,
   "metadata": {
    "colab": {
     "base_uri": "https://localhost:8080/"
    },
    "id": "PxbwAUSlkiJw",
    "outputId": "68238b01-7de3-4c2f-942b-cc3af54a86db"
   },
   "outputs": [
    {
     "name": "stdout",
     "output_type": "stream",
     "text": [
      "Flagged Fraud       0     1\n",
      "Actual Fraud               \n",
      "0              283089  1226\n",
      "1                 322   170\n"
     ]
    }
   ],
   "source": [
    "# Obtendo a média para cada grupo\n",
    "df.groupby('Class').mean()\n",
    "\n",
    "# Implementando uma regra para indicar quais casos são sinalizados como fraude\n",
    "# Criando a condição V1 menor que -3 e V3 menor que -5 como condição para sinalizar casos de fraude.\n",
    "df['flag_as_fraud'] = np.where(np.logical_and(df['V1']<-3, df['V3']<-5), 1, 0)\n",
    "\n",
    "# Criando uma tabela cruzada (crosstab) de casos de fraude sinalizados versus casos de fraude reais\n",
    "# Como medida de desempenho, usaremos a função 'crosstab' do pandas para comparar os casos de fraude sinalizados com casos reais de fraude.\n",
    "print(pd.crosstab(df.Class, df.flag_as_fraud, rownames=['Actual Fraud'], colnames=['Flagged Fraud']))"
   ]
  },
  {
   "cell_type": "markdown",
   "metadata": {
    "id": "47AqMms1l0Pt"
   },
   "source": [
    "Com essa regra, detectamos 170 de 492 casos de fraude, mas não conseguimos detectar os outros 322 e obtemos 1226 falsos positivos. Veremos a seguir como isso se compara a um modelo de machine learning."
   ]
  },
  {
   "cell_type": "markdown",
   "metadata": {
    "id": "VP5mZ_oDmY4E"
   },
   "source": [
    "## Usando a classificação por ML para detectar fraudes\n",
    "\n",
    "Veremos o que acontece ao usar um modelo simples de ML nos dados de cartão de crédito.\n",
    "\n",
    "Vamos implementar um modelo de regressão logística."
   ]
  },
  {
   "cell_type": "code",
   "execution_count": 11,
   "metadata": {
    "id": "gVf6kQLQmN2I"
   },
   "outputs": [
    {
     "name": "stdout",
     "output_type": "stream",
     "text": [
      "Classification report:\n",
      "               precision    recall  f1-score   support\n",
      "\n",
      "         0.0       1.00      1.00      1.00     85296\n",
      "         1.0       0.89      0.62      0.73       147\n",
      "\n",
      "    accuracy                           1.00     85443\n",
      "   macro avg       0.95      0.81      0.87     85443\n",
      "weighted avg       1.00      1.00      1.00     85443\n",
      "\n",
      "Confusion matrix:\n",
      " [[85285    11]\n",
      " [   56    91]]\n"
     ]
    }
   ],
   "source": [
    "from sklearn.model_selection import train_test_split\n",
    "from sklearn.linear_model import LogisticRegression\n",
    "from sklearn.metrics import classification_report, confusion_matrix\n",
    "\n",
    "X, y = prep_data(df)\n",
    "\n",
    "# Criando os conjuntos de treinamento e teste / test size: 30%\n",
    "X_train, X_test, y_train, y_test = train_test_split(X, y, test_size=0.3, random_state=0)\n",
    "\n",
    "from sklearn import preprocessing\n",
    "from sklearn import utils\n",
    "\n",
    "lab_enc = preprocessing.LabelEncoder()\n",
    "y_train = lab_enc.fit_transform(y_train)\n",
    "\n",
    "# Fitando o modelo de regressão logística aos dados\n",
    "model = LogisticRegression()\n",
    "model.fit(X_train, y_train)\n",
    "\n",
    "# Obtendo as previsões do modelo\n",
    "predicted = model.predict(X_test)\n",
    "\n",
    "# Imprimnido o relatório de classificação (classification_report) e matriz de confusão (confusion_matrix)\n",
    "print('Classification report:\\n', classification_report(y_test, predicted))\n",
    "conf_mat = confusion_matrix(y_true=y_test, y_pred=predicted)\n",
    "print('Confusion matrix:\\n', conf_mat)"
   ]
  },
  {
   "cell_type": "markdown",
   "metadata": {},
   "source": [
    "Agora conseguimos detectar 91 de 147 casos de fraude, mas não conseguimos detectar os outros 56 e obtemos 11 falsos positivos."
   ]
  },
  {
   "cell_type": "markdown",
   "metadata": {},
   "source": [
    "### Regressão logística combinada com SMOTE\n",
    "\n",
    "Vamos pegar o modelo de regressão logística do exemplo anterior e combiná-lo com um método de reamostragem SMOTE. Veremos como fazer isso de forma eficiente usando um pipeline que combina o método de reamostragem com o modelo de uma vez.\n",
    "\n",
    "Primeiro, precisamos definir o pipeline que vai usar."
   ]
  },
  {
   "cell_type": "code",
   "execution_count": 12,
   "metadata": {
    "colab": {
     "base_uri": "https://localhost:8080/"
    },
    "id": "o_2Ybyx2n21D",
    "outputId": "03efd06a-a049-4fc7-ca8b-8d64a60cea36"
   },
   "outputs": [],
   "source": [
    "# Módulo de pipeline da biblioteca imblearn de que precisamos\n",
    "from imblearn.over_sampling import SMOTE\n",
    "from imblearn.pipeline import Pipeline \n",
    "\n",
    "# Definir qual método de reamostragem e qual modelo de ML usar no pipeline\n",
    "resampling = SMOTE()\n",
    "model = LogisticRegression()\n",
    "\n",
    "# Definindo o pipeline: diga a ele para combinar SMOTE com o modelo de regressão logística\n",
    "pipeline = Pipeline([('SMOTE', resampling), ('Logistic Regression', model)])"
   ]
  },
  {
   "cell_type": "markdown",
   "metadata": {},
   "source": [
    "### Usando um pipeline\n",
    "\n",
    "Agora que definimos o pipeline, vamos executá-lo nos dados. Podemos tratar o pipeline como se fosse um único modelo de aprendizado de máquina."
   ]
  },
  {
   "cell_type": "code",
   "execution_count": 13,
   "metadata": {},
   "outputs": [
    {
     "name": "stdout",
     "output_type": "stream",
     "text": [
      "Classifcation report:\n",
      "               precision    recall  f1-score   support\n",
      "\n",
      "         0.0       1.00      0.98      0.99     85296\n",
      "         1.0       0.06      0.92      0.11       147\n",
      "\n",
      "    accuracy                           0.98     85443\n",
      "   macro avg       0.53      0.95      0.55     85443\n",
      "weighted avg       1.00      0.98      0.99     85443\n",
      "\n",
      "Confusion matrix:\n",
      " [[83191  2105]\n",
      " [   12   135]]\n"
     ]
    }
   ],
   "source": [
    "# # Criando os conjuntos de treinamento e teste / test size: 30%\n",
    "X_train, X_test, y_train, y_test = train_test_split(X, y, test_size=0.3, random_state=0)\n",
    "\n",
    "# Fitando o modelo de regressão logística ao conjunto de treino obter previsões Fitando o modelo ao conjunto de teste \n",
    "pipeline.fit(X_train, y_train) \n",
    "predicted = pipeline.predict(X_test)\n",
    "\n",
    "# Imprimnido o relatório de classificação (classification_report) e matriz de confusão (confusion_matrix)\n",
    "print('Classifcation report:\\n', classification_report(y_test, predicted))\n",
    "conf_mat = confusion_matrix(y_true=y_test, y_pred=predicted)\n",
    "print('Confusion matrix:\\n', conf_mat)"
   ]
  },
  {
   "cell_type": "markdown",
   "metadata": {},
   "source": [
    "Resumindo o resultado:\n",
    "* Proporção de casos que o modelo acerta como fraude em relação ao que modelo prediz como fraude (precision): 135/(135+2103) ~ 0.06 --> muitos casos de não fraude são preditos como fraude (precição baixa).\n",
    "* Proporção de casos que o modelo acerta como fraude em relação ao total de fraudes (recall): 135/(135+12) ~ 0.92 --> prediz a maioria das fraudes corretamente (recall alto).\n",
    "\n",
    "---\n"
   ]
  },
  {
   "cell_type": "markdown",
   "metadata": {},
   "source": [
    "Como podemos ver, o SMOTE melhora ligeiramente nossos resultados. Conseguimos agora localizar todos os casos de fraude, mas temos um número ligeiramente superior de falsos positivos, embora sejam apenas 2108 casos.\n",
    "\n",
    "Lembre-se de que nem em todos os casos a reamostragem leva necessariamente a melhores resultados. Quando os casos de fraude estão muito espalhados e dispersos pelos dados, o uso do SMOTE pode introduzir um pouco de bias. Vizinhos mais próximos não são necessariamente também casos de fraude, então as amostras sintéticas podem 'confundir' um pouco o modelo.\n",
    "\n",
    "A seguir aprenderemos como ajustar nossos modelos de NL para detectar melhor os casos de fraude minoritária.\n",
    "\n"
   ]
  },
  {
   "cell_type": "markdown",
   "metadata": {},
   "source": [
    "# Detecção de fraude usando dados rotulados\n",
    "\n",
    "Agora estamos familiarizado com os principais desafios da detecção de fraude, vamos aprender como sinalizar transações fraudulentas com aprendizado supervisionado.\n",
    "\n",
    "Usaremos alguns classificadores e vamos ajustá-los e compará-los para encontrar o modelo de detecção de fraude mais eficiente.\n",
    "\n",
    "Primeiro, precisamos explorar o quão prevalente é a fraude no conjunto de dados, para entender qual é a 'acurácia natural', se fossemos prever tudo como não fraude.\n",
    "\n",
    "É importante entender qual nível de acurácia precisamos \"vencer\" para obter uma previsão melhor do que não fazer nada.\n",
    "\n",
    "Iremos criar primeiro um classificador Random Forest para detecção de fraude. Ele servirá como o modelo baseline que tentaremos melhorar mais adiante."
   ]
  },
  {
   "cell_type": "code",
   "execution_count": 18,
   "metadata": {},
   "outputs": [
    {
     "name": "stdout",
     "output_type": "stream",
     "text": [
      "99.82725143693798\n"
     ]
    }
   ],
   "source": [
    "# Contando o número total de observações a partir tamanho de y\n",
    "total_obs = len(y)\n",
    "\n",
    "# Contando o número total de observações não fraudulentas\n",
    "non_fraud = [i for i in y if i == 0]\n",
    "count_non_fraud = non_fraud.count(0)\n",
    "\n",
    "# Calculando a porcentagem de observações não fraudulentas no conjunto de dados\n",
    "percentage = (float(count_non_fraud)/float(total_obs)) * 100\n",
    "\n",
    "# Imprimir a porcentagem: esta é a nossa 'acurácia natural' sem fazer nada\n",
    "print(percentage)"
   ]
  },
  {
   "cell_type": "markdown",
   "metadata": {},
   "source": [
    "Isso nos diz que, ao não fazer nada, estaríamos corretos em 99,83% dos casos. \n",
    "\n",
    "Portanto, se obtivermos uma acurácia menor do que esse número, nosso modelo não adicionará nenhum valor na previsão de quantos casos estão corretos.\n",
    "\n",
    "Agora veremos como um classificador Random Forest se sai na previsão de fraudes em nossos dados.\n",
    "\n"
   ]
  },
  {
   "cell_type": "markdown",
   "metadata": {},
   "source": [
    "## Classificador Random Forest\n",
    "\n",
    "Vamos agora criar um primeiro classificador Random Forest para detecção de fraude.\n",
    "Esperamos poder fazer melhor do que a acurácia do modelo baseline que acabamos de calcular, que foi de aproximadamente 99,83%.\n",
    "\n",
    "Este modelo servirá como o modelo baseline que tentaremos melhorar mais adiante. \n",
    "\n",
    "Vamos começar dividindo os dados em um conjunto de teste e treinamento e definindo o modelo Random Forest."
   ]
  },
  {
   "cell_type": "code",
   "execution_count": 15,
   "metadata": {},
   "outputs": [
    {
     "name": "stdout",
     "output_type": "stream",
     "text": [
      "0.9995201479348805\n"
     ]
    }
   ],
   "source": [
    "# Importando o modelo random forest da biblioteca sklearn\n",
    "from sklearn.ensemble import RandomForestClassifier\n",
    "from sklearn.metrics import accuracy_score\n",
    "\n",
    "# Criando os conjuntos de treinamento e teste / test size: 30%\n",
    "X_train, X_test, y_train, y_test = train_test_split(X, y, test_size=0.3, random_state=0)\n",
    "\n",
    "# Definindo o modelo como random forest\n",
    "model = RandomForestClassifier(random_state=5)\n",
    "\n",
    "# Fitando o modelo ao conjunto de treino\n",
    "model.fit(X_train, y_train)\n",
    "\n",
    "# Obtendo previsões a partir do conjunto de teste\n",
    "predicted = model.predict(X_test)\n",
    "\n",
    "# Imprima a métrica de desempenho de acurácia\n",
    "print(accuracy_score(y_test, predicted))"
   ]
  },
  {
   "cell_type": "markdown",
   "metadata": {},
   "source": [
    "O Random Forest evita overfitting na maioria das vezes, criando subconjuntos aleatórios das features e construindo árvores menores usando esses subconjuntos.\n",
    "Posteriormente, ele combina as subárvores de subamostras de features, de modo que não tende a se ajustar a todo o conjunto de features da mesma forma que as árvores de decisão 'profundas' fazem."
   ]
  },
  {
   "cell_type": "markdown",
   "metadata": {},
   "source": [
    "### Métricas de desempenho para o modelo RF\n",
    "\n",
    "Anteriormente, obtemos uma pontuação da acurácia para o modelo baseline Random Forest.\n",
    "\n",
    "Desta vez, sabemos que a acurácia pode ser enganosa no caso de detecção de fraude.\n",
    "\n",
    "Além disso, o relatório de classificação (classification report) informa sobre a precisão e o recall do modelo, enquanto a matriz de confusão mostra quantos casos de fraude você pode prever corretamente. Então, vamos obter essas métricas de desempenho.\n",
    "\n"
   ]
  },
  {
   "cell_type": "code",
   "execution_count": 16,
   "metadata": {},
   "outputs": [
    {
     "name": "stdout",
     "output_type": "stream",
     "text": [
      "0.9440157253109459\n",
      "              precision    recall  f1-score   support\n",
      "\n",
      "         0.0       1.00      1.00      1.00     85296\n",
      "         1.0       0.95      0.76      0.85       147\n",
      "\n",
      "    accuracy                           1.00     85443\n",
      "   macro avg       0.97      0.88      0.92     85443\n",
      "weighted avg       1.00      1.00      1.00     85443\n",
      "\n",
      "[[85290     6]\n",
      " [   35   112]]\n"
     ]
    }
   ],
   "source": [
    "# Importando os pacotes para obter as diferentes métricas de desempenho\n",
    "from sklearn.metrics import classification_report, confusion_matrix, roc_auc_score\n",
    "\n",
    "# Obtendo as previsões de nosso modelo random forest\n",
    "predicted = model.predict(X_test)\n",
    "\n",
    "# Prever probabilidades\n",
    "probs = model.predict_proba(X_test)\n",
    "\n",
    "# Imprimindo a curva ROC, relatório de classificação e matriz de confusão\n",
    "print(roc_auc_score(y_test, probs[:,1]))\n",
    "print(classification_report(y_test, predicted))\n",
    "print(confusion_matrix(y_test, predicted))"
   ]
  },
  {
   "cell_type": "markdown",
   "metadata": {},
   "source": [
    "Agora obtemos métricas de desempenho mais significativas que nos informam sobre o desempenho do modelo, considerando os dados altamente desbalanceados com os quais estamos trabalhando.\n",
    "\n",
    "O modelo prevê 118 casos de fraude, dos quais 112 são fraudes reais. Temos apenas 6 falsos positivos.\n",
    "\n",
    "Isso é muito bom e, como resultado, temos uma pontuação de precisão muito alta. No entanto, não detectamos 35 casos de fraude real.\n",
    "Portanto, o recall não é tão boa quanto a precisão."
   ]
  },
  {
   "cell_type": "markdown",
   "metadata": {},
   "source": [
    "### Plotando a curva Precision-Recall\n",
    "\n",
    "Também podemos plotar uma curva Precision-Recall, para investigar a compensação entre precisão e recall no modelo.\n",
    "\n",
    "Nesta curva, a precisão e o recall estão inversamente relacionados; à medida que a precisão aumenta, o recall diminui e vice-versa.\n",
    "\n",
    "Um equilíbrio entre esses dois precisa ser alcançado no modelo, caso contrário, podemos acabar com muitos falsos positivos ou não detectar casos reais de fraude suficientes.\n",
    "\n",
    "Para conseguir isso e comparar o desempenho, as curvas de Precision-Recall são úteis.\n",
    "\n",
    "\n",
    "\n",
    "\n",
    "\n",
    "\n"
   ]
  },
  {
   "cell_type": "code",
   "execution_count": 17,
   "metadata": {},
   "outputs": [
    {
     "data": {
      "image/png": "[encoded data removed]",
      "text/plain": [
       "<Figure size 432x288 with 1 Axes>"
      ]
     },
     "metadata": {
      "needs_background": "light"
     },
     "output_type": "display_data"
    }
   ],
   "source": [
    "from sklearn.metrics import average_precision_score\n",
    "from sklearn.metrics import precision_recall_curve\n",
    "\n",
    "# Calculando a precisão média e a curva PR\n",
    "average_precision = average_precision_score(y_test, predicted)\n",
    "\n",
    "# Obtendo precisão e recall\n",
    "precision, recall, _ = precision_recall_curve(y_test, predicted)\n",
    "\n",
    "# Plotando o tradeoff recall precision \n",
    "plot_pr_curve(recall, precision, average_precision)"
   ]
  },
  {
   "cell_type": "markdown",
   "metadata": {},
   "source": [
    "A curva ROC representa os verdadeiros positivos vs. falsos positivos, para um classificador, a medida que seu limite de limiar é variado.\n",
    "\n",
    "Visto que um método aleatório descreve uma curva horizontal através do intervalo de unidades, ele tem uma AUC ('área sob a curva') de 0,5.\n",
    "\n",
    "No mínimo, os classificadores devem ter um desempenho melhor do que isso e, na medida em que pontuam mais alto que um do outro (o que significa que a área sob a curva ROC é maior), eles têm melhor desempenho esperado."
   ]
  },
  {
   "cell_type": "markdown",
   "metadata": {},
   "source": [
    "### Ajustes do modelo\n",
    "\n",
    "Uma maneira simples de ajustar o modelo random forest para lidar com dados de fraude altamente desbalanceados é usar a opção `class_weights` ao definir o modelo.\n",
    "\n",
    "No entanto, como veremos, é um mecanismo de força um pouco cego e pode não funcionar para o algum caso muito especial.\n",
    "\n",
    "Aqui, vamos explorar o modo `class_weight = balance_subsample` do modelo Random Forest do exercício anterior.\n"
   ]
  },
  {
   "cell_type": "code",
   "execution_count": 18,
   "metadata": {},
   "outputs": [
    {
     "name": "stdout",
     "output_type": "stream",
     "text": [
      "0.9375045061168342\n",
      "              precision    recall  f1-score   support\n",
      "\n",
      "         0.0       1.00      1.00      1.00     85296\n",
      "         1.0       0.97      0.74      0.84       147\n",
      "\n",
      "    accuracy                           1.00     85443\n",
      "   macro avg       0.99      0.87      0.92     85443\n",
      "weighted avg       1.00      1.00      1.00     85443\n",
      "\n",
      "[[85293     3]\n",
      " [   38   109]]\n"
     ]
    }
   ],
   "source": [
    "from sklearn.metrics import roc_auc_score\n",
    "\n",
    "# Definindo o modelo com subamostra balanceada\n",
    "model = RandomForestClassifier(class_weight='balanced_subsample', random_state=5)\n",
    "\n",
    "# Fitando o modelo ao conjunto de treino\n",
    "model.fit(X_train, y_train)\n",
    "\n",
    "# Obtendo os valores preditos e as probabilidades do modelo\n",
    "predicted = model.predict(X_test)\n",
    "probs = model.predict_proba(X_test)\n",
    "\n",
    "# Imprimindo o roc_auc_score, o relatório de classificação e a matriz de confusão\n",
    "print(roc_auc_score(y_test, probs[:,1]))\n",
    "print(classification_report(y_test, predicted))\n",
    "print(confusion_matrix(y_test, predicted))"
   ]
  },
  {
   "cell_type": "markdown",
   "metadata": {},
   "source": [
    "Podemos ver que os resultados do modelo não melhoraram drasticamente.\n",
    "\n",
    "Agora temos 2 falsos positivos a menos, mas temos 36 em vez de 35 falsos negativos, ou seja, casos de fraude que não estamos detectando.\n",
    "\n",
    "Se nos preocupamos principalmente com a detecção de fraudes, e não tanto com os falsos positivos, isso na verdade não melhora nosso modelo em nada, embora seja uma opção simples de tentar.\n",
    "\n",
    "Nos próximos exercícios, veremos como ajustar o modelo de maneira mais inteligente para se concentrar na redução de falsos negativos e detectar mais fraudes."
   ]
  },
  {
   "cell_type": "markdown",
   "metadata": {},
   "source": [
    "### Ajustando a Random Forest para detecção de fraude\n",
    "\n",
    "Focaremos nas opções para o classificador random forest, pois iremos atribuir pesos e ajustar a forma das árvores de decisão na floresta.\n",
    "\n",
    "Definiremos os pesos manualmente, para poder compensar um pouco esse desbalanceamento.\n",
    "\n",
    "No nosso caso, temos 147 casos de fraude para 85296 não-fraude, então, definindo a proporção de peso em 1:600.\n",
    "\n",
    "Podemos então usar a função `get_model_results()` como um atalho.\n",
    "\n",
    "Esta função ajusta o modelo aos seus dados de treinamento, prevê e obtém métricas de desempenho semelhantes às etapas executadas nos exercícios anteriores."
   ]
  },
  {
   "cell_type": "code",
   "execution_count": 19,
   "metadata": {},
   "outputs": [
    {
     "name": "stdout",
     "output_type": "stream",
     "text": [
      "              precision    recall  f1-score   support\n",
      "\n",
      "         0.0       1.00      1.00      1.00     85296\n",
      "         1.0       0.84      0.82      0.83       147\n",
      "\n",
      "    accuracy                           1.00     85443\n",
      "   macro avg       0.92      0.91      0.91     85443\n",
      "weighted avg       1.00      1.00      1.00     85443\n",
      "\n",
      "[[85273    23]\n",
      " [   27   120]]\n"
     ]
    }
   ],
   "source": [
    "# Alterando as opções do modelo\n",
    "model = RandomForestClassifier(bootstrap=True, class_weight={0:1, 1:600}, criterion='entropy',\n",
    "\n",
    "            # Mudando a profundidade do modelo\n",
    "            max_depth=10,\n",
    "\n",
    "            # Alterando o número de amostras nos nós da folha\n",
    "            min_samples_leaf=10, \n",
    "\n",
    "            # Alterando o número de árvores a usar\n",
    "            n_estimators=20, n_jobs=-1, random_state=5)\n",
    "\n",
    "# Executando a função get_model_results\n",
    "get_model_results(X_train, y_train, X_test, y_test, model)"
   ]
  },
  {
   "cell_type": "markdown",
   "metadata": {},
   "source": [
    "Podemos ver que, definindo de forma inteligente mais opções no modelo, podemos obter melhores previsões.\n",
    "\n",
    "Reduzimos efetivamente o número de falsos negativos, ou seja, estamos detectando mais casos de fraude, enquanto mantemos baixo o número de falsos positivos.\n",
    "\n",
    "Neste exercício, alteramos manualmente as opções do modelo. Porém, existe uma maneira mais inteligente de fazer isso, usando `GridSearchCV`, que veremos a seguir."
   ]
  },
  {
   "cell_type": "markdown",
   "metadata": {
    "tags": []
   },
   "source": [
    "### Usando GridSearchCV para encontrar os parâmetros ideais\n",
    "\n",
    "Vamos ajustar o modelo de uma forma menos 'aleatória', mas usaremos o GridSearchCV para fazer o trabalho para nós.\n",
    "\n",
    "Com GridSearchCV podemos definir em qual métrica de desempenho pontuar as opções.\n",
    "\n",
    "Como, para a detecção de fraudes, estamos mais interessados em detectar o maior número possível de casos de fraude, podemos otimizar as configurações do modelo para obter a melhor pontuação de recall possível.\n",
    "\n",
    "Se você também se preocupar em reduzir o número de falsos positivos, poderia otimizar o F1-score, o que dá uma boa compensação no Precision-Recall."
   ]
  },
  {
   "cell_type": "code",
   "execution_count": 26,
   "metadata": {},
   "outputs": [
    {
     "data": {
      "text/plain": [
       "{'criterion': 'gini',\n",
       " 'max_depth': 10,\n",
       " 'max_features': 'auto',\n",
       " 'n_estimators': 32}"
      ]
     },
     "execution_count": 26,
     "metadata": {},
     "output_type": "execute_result"
    }
   ],
   "source": [
    "from sklearn.model_selection import RandomizedSearchCV\n",
    "from sklearn.model_selection import GridSearchCV\n",
    "\n",
    "# Definindo os conjuntos de parâmetros para testar\n",
    "param_grid = {'n_estimators': [1, 32], 'max_features': ['auto', 'log2'],  'max_depth': [1, 10], 'criterion': ['gini', 'entropy']\n",
    "}\n",
    "\n",
    "# Definindo o modelo a ser usado\n",
    "model = RandomForestClassifier(random_state=5)\n",
    "\n",
    "# Combinando os conjuntos de parâmetros com o modelo definido\n",
    "CV_model = GridSearchCV(estimator=model, param_grid=param_grid, cv=5, scoring='recall', n_jobs=-1)\n",
    "\n",
    "# Ajustar o modelo aos nossos dados de treinamento e obter os melhores parâmetros\n",
    "CV_model.fit(X_train, y_train)\n",
    "CV_model.best_params_"
   ]
  },
  {
   "cell_type": "markdown",
   "metadata": {},
   "source": [
    "### Resultados do modelo usando GridSearchCV\n",
    "\n",
    "Descobrimos que os melhores parâmetros para o modelo são que o critério de divisão deve ser definido como 'entropy', o número de estimadores (árvores) deve ser 30, a profundidade máxima do modelo deve ser 8 e os recursos máximos devem ser definidos como 'auto'.\n",
    "\n",
    "Vamos verificar como o modelo vai performar. Podemos usar a função get_model_results novamente para economizar tempo."
   ]
  },
  {
   "cell_type": "code",
   "execution_count": 27,
   "metadata": {},
   "outputs": [
    {
     "name": "stdout",
     "output_type": "stream",
     "text": [
      "              precision    recall  f1-score   support\n",
      "\n",
      "         0.0       1.00      1.00      1.00     85296\n",
      "         1.0       0.75      0.84      0.79       147\n",
      "\n",
      "    accuracy                           1.00     85443\n",
      "   macro avg       0.87      0.92      0.89     85443\n",
      "weighted avg       1.00      1.00      1.00     85443\n",
      "\n",
      "[[85254    42]\n",
      " [   24   123]]\n"
     ]
    }
   ],
   "source": [
    "# Inserindo os parâmetros ideais no modelo\n",
    "model = RandomForestClassifier(class_weight={0:1,1:600}, criterion='entropy',\n",
    "            max_depth=8, max_features='auto',  min_samples_leaf=10, n_estimators=10, n_jobs=-1, random_state=5)\n",
    "\n",
    "# Obtendo os resultados de seu modelo\n",
    "get_model_results(X_train, y_train, X_test, y_test, model)"
   ]
  },
  {
   "cell_type": "markdown",
   "metadata": {},
   "source": [
    "Conseguimos melhorar ainda mais o modelo.\n",
    "\n",
    "O número de falsos negativos foi reduzido ainda mais, o que significa que estamos detectando mais casos de fraude.\n",
    "\n",
    "No entanto, vemos que o número de falsos positivos realmente aumentou. Essa é a compensação Precision-Recall em ação.\n",
    "\n",
    "Para decidir qual modelo final é o melhor, precisamos levar em consideração o quão ruim é não pegar os fraudadores, em comparação com quantos falsos positivos a equipe de análise de fraude pode lidar.\n",
    "\n",
    "Em última análise, essa decisão final deve ser tomada por você e a equipe de fraude juntos."
   ]
  },
  {
   "cell_type": "markdown",
   "metadata": {},
   "source": [
    "## Métodos Ensemble\n"
   ]
  },
  {
   "cell_type": "markdown",
   "metadata": {
    "tags": []
   },
   "source": [
    "### Regressão Logística\n",
    "\n",
    "Combinaremos três algoritmos em um modelo com o VotingClassifier.\n",
    "\n",
    "Isso nos permite tirar proveito dos diferentes aspectos de todos os modelos e, com sorte, melhorar o desempenho geral e detectar mais fraudes.\n",
    "\n",
    "O primeiro modelo, a regressão logística, tem uma pontuação de recall ligeiramente maior do que nosso modelo de Random Forest otimizado, mas dá muito mais falsos positivos.\n",
    "\n",
    "Iremos adicionar também uma árvore de decisão com pesos balanceados.\n",
    "\n",
    "Para entender como o Voting Classifier pode potencialmente melhorar o modelo original, devemos verificar os resultados autônomos do modelo de Regressão Logística primeiro."
   ]
  },
  {
   "cell_type": "code",
   "execution_count": 29,
   "metadata": {},
   "outputs": [
    {
     "name": "stdout",
     "output_type": "stream",
     "text": [
      "              precision    recall  f1-score   support\n",
      "\n",
      "         0.0       1.00      0.98      0.99     85296\n",
      "         1.0       0.06      0.91      0.12       147\n",
      "\n",
      "    accuracy                           0.98     85443\n",
      "   macro avg       0.53      0.94      0.55     85443\n",
      "weighted avg       1.00      0.98      0.99     85443\n",
      "\n",
      "[[83300  1996]\n",
      " [   13   134]]\n"
     ]
    }
   ],
   "source": [
    "from sklearn.model_selection import train_test_split\n",
    "from sklearn.linear_model import LogisticRegression\n",
    "from sklearn.metrics import classification_report, confusion_matrix\n",
    "\n",
    "X, y = prep_data(df)\n",
    "\n",
    "# Criando os conjuntos de treinamento e teste\n",
    "X_train, X_test, y_train, y_test = train_test_split(X, y, test_size=0.3, random_state=0)\n",
    "\n",
    "from sklearn import preprocessing\n",
    "from sklearn import utils\n",
    "\n",
    "lab_enc = preprocessing.LabelEncoder()\n",
    "y_train = lab_enc.fit_transform(y_train)\n",
    "\n",
    "# Ajustando um modelo de regressão logística aos nossos dados\n",
    "model = LogisticRegression(class_weight={0:1, 1:600}, random_state=5)\n",
    "\n",
    "get_model_results(X_train, y_train, X_test, y_test, model)"
   ]
  },
  {
   "cell_type": "markdown",
   "metadata": {},
   "source": [
    "Como podemos ver, a regressão logística tem um desempenho bastante diferente do random forest.\n",
    "\n",
    "Mais falsos positivos, mas também um recall melhor.\n",
    "\n",
    "Será, portanto, uma adição útil ao random forest em um modelo ensemble."
   ]
  },
  {
   "cell_type": "markdown",
   "metadata": {},
   "source": [
    "### Voting Classifier\n",
    "\n",
    "Agora, vamos combinar três modelos de ML em um, para melhorar nosso modelo anterior de detecção de fraudes random forest.\n",
    "\n",
    "Combinaremos nosso modelo usual de random forest, com a regressão logística do exercício anterior, com uma árvore de decisão simples.\n",
    "\n",
    "Podemos usar o atalho get_model_results para ver o resultado imediato do modelo ensemble."
   ]
  },
  {
   "cell_type": "code",
   "execution_count": 30,
   "metadata": {},
   "outputs": [
    {
     "name": "stdout",
     "output_type": "stream",
     "text": [
      "              precision    recall  f1-score   support\n",
      "\n",
      "         0.0       1.00      1.00      1.00     85296\n",
      "         1.0       0.71      0.83      0.76       147\n",
      "\n",
      "    accuracy                           1.00     85443\n",
      "   macro avg       0.85      0.91      0.88     85443\n",
      "weighted avg       1.00      1.00      1.00     85443\n",
      "\n",
      "[[85246    50]\n",
      " [   25   122]]\n"
     ]
    }
   ],
   "source": [
    "# Importando as bibliotecas\n",
    "from sklearn.ensemble import RandomForestClassifier, VotingClassifier\n",
    "from sklearn.tree import DecisionTreeClassifier\n",
    "\n",
    "# Definindo os três classificadores a serem usados ​​no conjunto\n",
    "clf1 = LogisticRegression(class_weight={0:1, 1:600}, random_state=5)\n",
    "clf2 = RandomForestClassifier(class_weight={0:1, 1:600}, criterion='entropy', max_depth=8, max_features='auto',\n",
    "            min_samples_leaf=10, n_estimators=10, n_jobs=-1, random_state=5)\n",
    "clf3 = DecisionTreeClassifier(random_state=5, class_weight=\"balanced\")\n",
    "\n",
    "# Combinando os classificadores no modelo ensemble\n",
    "ensemble_model = VotingClassifier(estimators=[('lr', clf1), ('rf', clf2), ('dt', clf3)], voting='soft')\n",
    "\n",
    "# Obtendo os resultados\n",
    "get_model_results(X_train, y_train, X_test, y_test, ensemble_model)"
   ]
  },
  {
   "cell_type": "markdown",
   "metadata": {},
   "source": [
    "Diminuímos os casos de fraude que detectados com apenas alguns falsos positivos extras em troca.\n",
    " \n",
    "Se você se preocupa em detectar o máximo de casos de fraude que puder, enquanto mantém os falsos positivos baixos, esta é uma boa troca.\n",
    "\n",
    "A regressão logística como um autônomo foi muito ruim em termos de falsos positivos, e o  Random Forest foi pior em termos de falsos negativos.\n",
    "\n",
    "Ao combiná-los, realmente conseguimos melhorar o desempenho."
   ]
  },
  {
   "cell_type": "markdown",
   "metadata": {},
   "source": [
    "### Ajustando os pesos no Voting Classifier\n",
    "\n",
    "Acabamos de ver que o Voting Classifier permite que melhoremos o desempenho na detecção de fraudes, combinando aspectos positivos de vários modelos.\n",
    "\n",
    "Agora, vamos tentar ajustar os pesos que damos a esses modelos.\n",
    "\n",
    "Aumentando ou diminuindo os pesos, podemos brincar com quanta ênfase daremos a um modelo específico em relação ao resto.\n",
    "\n",
    "Isso é útil quando um determinado modelo tem desempenho geral melhor do que o resto, mas ainda desejamos combinar aspectos dos outros para melhorar ainda mais seus resultados."
   ]
  },
  {
   "cell_type": "code",
   "execution_count": 31,
   "metadata": {},
   "outputs": [
    {
     "name": "stdout",
     "output_type": "stream",
     "text": [
      "              precision    recall  f1-score   support\n",
      "\n",
      "         0.0       1.00      1.00      1.00     85296\n",
      "         1.0       0.73      0.84      0.78       147\n",
      "\n",
      "    accuracy                           1.00     85443\n",
      "   macro avg       0.87      0.92      0.89     85443\n",
      "weighted avg       1.00      1.00      1.00     85443\n",
      "\n",
      "[[85251    45]\n",
      " [   23   124]]\n"
     ]
    }
   ],
   "source": [
    "# Definindo o modelo ensemble\n",
    "ensemble_model = VotingClassifier(estimators=[('lr', clf1), ('rf', clf2), ('gnb', clf3)], voting='soft', weights=[1, 4, 1], flatten_transform=True)\n",
    "\n",
    "# Obtendo os resultados\n",
    "get_model_results(X_train, y_train, X_test, y_test, ensemble_model)"
   ]
  },
  {
   "cell_type": "markdown",
   "metadata": {},
   "source": [
    "A opção de peso permite que você jogue com os modelos individuais para obter a melhor combinação final para o modelo de detecção de fraude."
   ]
  },
  {
   "cell_type": "markdown",
   "metadata": {
    "id": "MSLkW_9IF89z"
   },
   "source": [
    "# Links\n",
    "\n",
    "[Transaction data simulator](https://fraud-detection-handbook.github.io/fraud-detection-handbook/Chapter_3_GettingStarted/SimulatedDataset.html)\n",
    "\n",
    "Dados obtidos de [Credit Card Fraud Detection](https://www.kaggle.com/mlg-ulb/creditcardfraud)\n",
    "\n",
    "Curso de detecção de fraude [Datacamp](https://campus.datacamp.com/courses/fraud-detection-in-python/)"
   ]
  }
 ],
 "metadata": {
  "colab": {
   "collapsed_sections": [],
   "name": "Projeto_fraude_cartão_2021-07-02.ipynb",
   "provenance": [],
   "toc_visible": true
  },
  "kernelspec": {
   "display_name": "Python 3 (ipykernel)",
   "language": "python",
   "name": "python3"
  },
  "language_info": {
   "codemirror_mode": {
    "name": "ipython",
    "version": 3
   },
   "file_extension": ".py",
   "mimetype": "text/x-python",
   "name": "python",
   "nbconvert_exporter": "python",
   "pygments_lexer": "ipython3",
   "version": "3.9.7"
  }
 },
 "nbformat": 4,
 "nbformat_minor": 4
}
